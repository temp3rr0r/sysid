{
 "cells": [
  {
   "cell_type": "code",
   "execution_count": 119,
   "metadata": {
    "collapsed": true,
    "pycharm": {
     "name": "#%%\n",
     "is_executing": false
    }
   },
   "outputs": [],
   "source": [
    "import sklearn\n",
    "from sysid.subspace_cupy_fp16 import subspace_det_algo1, prbs, nrms, symmetric_mean_absolute_percentage_error, \\\n",
    "    index_of_agreement, mean_absolute_percentage_error, mean_absolute_scaled_error\n",
    "from sysid.ss_cupy_fp16 import StateSpaceDiscreteLinear, StateSpaceDataList, StateSpaceDataArray\n",
    "from sklearn.metrics import r2_score\n",
    "import time\n",
    "import pandas as pd\n",
    "import cupy as np\n",
    "import numpy\n",
    "import matplotlib.pyplot as plt"
   ]
  },
  {
   "cell_type": "markdown",
   "source": [
    "Virtual Data:"
   ],
   "metadata": {
    "collapsed": false,
    "pycharm": {
     "name": "#%% md\n",
     "is_executing": false
    }
   }
  },
  {
   "cell_type": "code",
   "execution_count": 120,
   "outputs": [
    {
     "data": {
      "text/plain": "(2, 20)"
     },
     "metadata": {},
     "output_type": "execute_result",
     "execution_count": 120
    }
   ],
   "source": [
    "tf = 20  # 365 * 5\n",
    "dt = 1\n",
    "plot_stuff = True\n",
    "\n",
    "u_dimensions = 2\n",
    "y_dimensions = 2\n",
    "\n",
    "data_u = np.random.randn(u_dimensions, tf)  # 40 * 45\n",
    "# data_y = np.random.randn(3, tf)  # 40 * 45\n",
    "white_noise = 0.1 *  np.random.randn(y_dimensions, tf)\n",
    "uniform_noise = 0.1 *  np.random.rand(y_dimensions, tf)\n",
    "data_y2 = 80 + 30 * (data_u[0:y_dimensions,:] + white_noise + uniform_noise) # 40 * 45\n",
    "\n",
    "# Regularize data\n",
    "data_y = (data_y2 - np.mean(data_y2)) / np.std(data_y2)\n",
    "\n",
    "data_y.shape"
   ],
   "metadata": {
    "collapsed": false,
    "pycharm": {
     "name": "#%%\n",
     "is_executing": false
    }
   }
  },
  {
   "cell_type": "code",
   "execution_count": 121,
   "outputs": [],
   "source": [
    "# TODO:\n",
    "# 1. time-series split\n",
    "# 2. 3 days ahead predict\n",
    "# 3. Island transpeciation search\n",
    "# 4. 50% MSE + 50% residuals corr & autocorr error"
   ],
   "metadata": {
    "collapsed": false,
    "pycharm": {
     "name": "#%%\n",
     "is_executing": false
    }
   }
  },
  {
   "cell_type": "markdown",
   "source": [
    "S&P 500 DATA:"
   ],
   "metadata": {
    "collapsed": false,
    "pycharm": {
     "name": "#%% md\n"
    }
   }
  },
  {
   "cell_type": "code",
   "execution_count": 122,
   "outputs": [],
   "source": [
    "days = tf = 365 * 3 # Total simulation days\n",
    "total_days = tf * 2\n",
    "\n",
    "total_top_correlated = 1200 # Max (correlated) input ticker count\n",
    "days_fill_range = days\n",
    "time_step = dt = 1  # Time-step scale (1 day)\n",
    "\n",
    "plot_stuff = True"
   ],
   "metadata": {
    "collapsed": false,
    "pycharm": {
     "name": "#%%\n",
     "is_executing": false
    }
   }
  },
  {
   "cell_type": "markdown",
   "source": [
    "Read CSV:"
   ],
   "metadata": {
    "collapsed": false,
    "pycharm": {
     "name": "#%% md\n",
     "is_executing": false
    }
   }
  },
  {
   "cell_type": "code",
   "execution_count": 123,
   "outputs": [
    {
     "name": "stdout",
     "text": [
      "(2615, 506)\n"
     ],
     "output_type": "stream"
    }
   ],
   "source": [
    "df1 = pd.read_csv('sp500_joined_closes.csv')\n",
    "print(df1.shape)"
   ],
   "metadata": {
    "collapsed": false,
    "pycharm": {
     "name": "#%%\n",
     "is_executing": false
    }
   }
  },
  {
   "cell_type": "code",
   "execution_count": 124,
   "outputs": [
    {
     "name": "stdout",
     "text": [
      "(3698, 1454)\n"
     ],
     "output_type": "stream"
    }
   ],
   "source": [
    "df1 = pd.read_csv('C:/Users/temp3rr0r/PycharmProjects/Financial Forecasting/top_crypto_world_indices_tickers.csv')\n",
    "print(df1.shape)\n",
    "# df1 = df1.dropna(axis='columns')  # Drop columns with NA"
   ],
   "metadata": {
    "collapsed": false,
    "pycharm": {
     "name": "#%%\n",
     "is_executing": false
    }
   }
  },
  {
   "cell_type": "code",
   "execution_count": 125,
   "outputs": [
    {
     "name": "stdout",
     "text": [
      "(3698, 1453)\n"
     ],
     "output_type": "stream"
    }
   ],
   "source": [
    "df1 = df1.set_index(\"Date\")\n",
    "print(df1.shape)"
   ],
   "metadata": {
    "collapsed": false,
    "pycharm": {
     "name": "#%%\n",
     "is_executing": false
    }
   }
  },
  {
   "cell_type": "code",
   "execution_count": 126,
   "outputs": [
    {
     "name": "stdout",
     "text": [
      "(3698, 1453)\n"
     ],
     "output_type": "stream"
    }
   ],
   "source": [
    "df1 = df1.drop_duplicates()\n",
    "# df3 = df2.tail(365*9)\n",
    "print(df1.shape)"
   ],
   "metadata": {
    "collapsed": false,
    "pycharm": {
     "name": "#%%\n",
     "is_executing": false
    }
   }
  },
  {
   "cell_type": "code",
   "execution_count": 127,
   "outputs": [
    {
     "name": "stdout",
     "text": [
      "(3698, 1453)\n"
     ],
     "output_type": "stream"
    }
   ],
   "source": [
    "df1 = df1.astype(float)\n",
    "print(df1.shape)"
   ],
   "metadata": {
    "collapsed": false,
    "pycharm": {
     "name": "#%%\n",
     "is_executing": false
    }
   }
  },
  {
   "cell_type": "code",
   "execution_count": 128,
   "outputs": [
    {
     "name": "stdout",
     "text": [
      "(2190, 1453)\n"
     ],
     "output_type": "stream"
    },
    {
     "data": {
      "text/plain": "            COTY  ADT  UTL  LKQ  MHK  JHMF  HSFNX  COP  CTL  EURCHF=X  ...  \\\nDate                                                                   ...   \n2014-10-26   NaN  NaN  NaN  NaN  NaN   NaN    NaN  NaN  NaN       NaN  ...   \n\n            SRPT  USB-PM  CUK  AOS  WFC     ^AXJO  TAP-A  NJR  PKG  ^TA125.TA  \nDate                                                                           \n2014-10-26   NaN     NaN  NaN  NaN  NaN -0.687299    NaN  NaN  NaN        NaN  \n\n[1 rows x 1453 columns]",
      "text/html": "<div>\n<style scoped>\n    .dataframe tbody tr th:only-of-type {\n        vertical-align: middle;\n    }\n\n    .dataframe tbody tr th {\n        vertical-align: top;\n    }\n\n    .dataframe thead th {\n        text-align: right;\n    }\n</style>\n<table border=\"1\" class=\"dataframe\">\n  <thead>\n    <tr style=\"text-align: right;\">\n      <th></th>\n      <th>COTY</th>\n      <th>ADT</th>\n      <th>UTL</th>\n      <th>LKQ</th>\n      <th>MHK</th>\n      <th>JHMF</th>\n      <th>HSFNX</th>\n      <th>COP</th>\n      <th>CTL</th>\n      <th>EURCHF=X</th>\n      <th>...</th>\n      <th>SRPT</th>\n      <th>USB-PM</th>\n      <th>CUK</th>\n      <th>AOS</th>\n      <th>WFC</th>\n      <th>^AXJO</th>\n      <th>TAP-A</th>\n      <th>NJR</th>\n      <th>PKG</th>\n      <th>^TA125.TA</th>\n    </tr>\n    <tr>\n      <th>Date</th>\n      <th></th>\n      <th></th>\n      <th></th>\n      <th></th>\n      <th></th>\n      <th></th>\n      <th></th>\n      <th></th>\n      <th></th>\n      <th></th>\n      <th></th>\n      <th></th>\n      <th></th>\n      <th></th>\n      <th></th>\n      <th></th>\n      <th></th>\n      <th></th>\n      <th></th>\n      <th></th>\n      <th></th>\n    </tr>\n  </thead>\n  <tbody>\n    <tr>\n      <th>2014-10-26</th>\n      <td>NaN</td>\n      <td>NaN</td>\n      <td>NaN</td>\n      <td>NaN</td>\n      <td>NaN</td>\n      <td>NaN</td>\n      <td>NaN</td>\n      <td>NaN</td>\n      <td>NaN</td>\n      <td>NaN</td>\n      <td>...</td>\n      <td>NaN</td>\n      <td>NaN</td>\n      <td>NaN</td>\n      <td>NaN</td>\n      <td>NaN</td>\n      <td>-0.687299</td>\n      <td>NaN</td>\n      <td>NaN</td>\n      <td>NaN</td>\n      <td>NaN</td>\n    </tr>\n  </tbody>\n</table>\n<p>1 rows × 1453 columns</p>\n</div>"
     },
     "metadata": {},
     "output_type": "execute_result",
     "execution_count": 128
    }
   ],
   "source": [
    "df = df1.tail(total_days)\n",
    "min_max_df = (df-df.min())/(df.max()-df.min())\n",
    "standardized_df = (df-df.mean())/(df.std())\n",
    "normalized_df = standardized_df\n",
    "print(normalized_df.shape)\n",
    "normalized_df.head(1)"
   ],
   "metadata": {
    "collapsed": false,
    "pycharm": {
     "name": "#%%\n",
     "is_executing": false
    }
   }
  },
  {
   "cell_type": "code",
   "execution_count": 130,
   "outputs": [],
   "source": [
    "normalized_df = normalized_df.interpolate(limit=days_fill_range)\n",
    "normalized_df = normalized_df.bfill(limit=days_fill_range).ffill(limit=days_fill_range)\n",
    "# y_labels = [\"MSFT\", \"AMD\", \"AAPL\", \"INTC\"]\n",
    "y_labels = [\"BTC-USD\", \"LTC-USD\", \"ETH-USD\"]  # BCH, LTC\n",
    "# normalized_df = normalized_df.drop(['BTCUSD=X'])\n",
    "# y_labels = [\"MSFT\"]  # BCH, LTC"
   ],
   "metadata": {
    "collapsed": false,
    "pycharm": {
     "name": "#%%\n",
     "is_executing": false
    }
   }
  },
  {
   "cell_type": "code",
   "execution_count": 131,
   "outputs": [
    {
     "name": "stdout",
     "text": [
      "(2190, 1450)\n"
     ],
     "output_type": "stream"
    }
   ],
   "source": [
    "normalized_df = normalized_df.dropna(axis='columns')  # Drop columns with NA\n",
    "print(normalized_df.shape)"
   ],
   "metadata": {
    "collapsed": false,
    "pycharm": {
     "name": "#%%\n",
     "is_executing": false
    }
   }
  },
  {
   "cell_type": "code",
   "execution_count": 132,
   "outputs": [],
   "source": [
    "corr0 = normalized_df.corr(method=\"spearman\").abs()  # Allow negative correlations\n",
    "corr1 = corr0[corr0 <0.99999]  # Remove correlations == 100%\n",
    "corr2 = corr1[corr1>0.5]  # Remove half correlated"
   ],
   "metadata": {
    "collapsed": false,
    "pycharm": {
     "name": "#%%\n",
     "is_executing": false
    }
   }
  },
  {
   "cell_type": "code",
   "execution_count": 133,
   "outputs": [],
   "source": [
    "corr3 = corr2.unstack().sort_values(kind=\"quicksort\", ascending=False).drop_duplicates() # Sort by most correlated\n",
    "corr3 = corr3.drop_duplicates()"
   ],
   "metadata": {
    "collapsed": false,
    "pycharm": {
     "name": "#%%\n",
     "is_executing": false
    }
   }
  },
  {
   "cell_type": "code",
   "execution_count": 135,
   "outputs": [
    {
     "name": "stdout",
     "text": [
      "NaNs? False\n",
      "len(u_labels): \n"
     ],
     "output_type": "stream"
    }
   ],
   "source": [
    "total_top_correlated = min(total_top_correlated, normalized_df.shape[1])\n",
    "\n",
    "u_labels = []  # Add the top correlated tickers to the inputs\n",
    "for y_label in y_labels:\n",
    "    u_labels = u_labels + corr3[y_label].head(int(total_top_correlated/len(y_labels))).index.tolist()\n",
    "    \n",
    "u_labels = list(dict.fromkeys(u_labels))  # Remove duplicate tickers\n",
    "for y_label in y_labels:  # Remove output tickers from inputs\n",
    "    if y_label in u_labels:\n",
    "        u_labels.remove(y_label)\n",
    "\n",
    "print(\"NaNs?\", normalized_df[u_labels + y_labels].isnull().values.any())\n",
    "\n",
    "print(\"len(u_labels): {}\".format(len(u_labels)))\n",
    "normalized_df[u_labels].tail(total_days).head(tf).head(1)\n",
    "\n",
    "# data_u = normalized_df[u_labels].tail(tf).values.T\n",
    "# data_y = normalized_df[y_labels].tail(tf).values.T\n",
    "\n",
    "data_u = normalized_df[u_labels].tail(total_days).head(tf).values.T\n",
    "data_y = normalized_df[y_labels].tail(total_days).head(tf).values.T\n",
    "\n",
    "test_data_u = normalized_df[u_labels].tail(tf).values.T\n",
    "test_data_y = normalized_df[y_labels].tail(tf).values.T\n",
    "\n",
    "u_dimensions = len(u_labels)\n",
    "y_dimensions = len(y_labels)"
   ],
   "metadata": {
    "collapsed": false,
    "pycharm": {
     "name": "#%%\n",
     "is_executing": false
    }
   }
  },
  {
   "cell_type": "code",
   "execution_count": 136,
   "outputs": [],
   "source": [
    "# import numpy as np\n",
    "# from sklearn.model_selection import TimeSeriesSplit\n",
    "# # X = np.array([[1, 2, 5], [3, 5, 4], [1, 5, 2], [3, 5, 4], [1, 5, 2], [3, 5, 4], [1, 5, 34], [5, 5, 7]])\n",
    "# X = data_u[0]\n",
    "# y = data_y[0]\n",
    "# # y = np.array([[1, 2], [3, 4], [1, 2], [3, 4], [1, 2], [3, 4], [1, 34], [5, 7]])\n",
    "# tscv = TimeSeriesSplit(max_train_size=int(0.75* X.shape[0]), n_splits=2)\n",
    "# print(tscv)\n",
    "# for train_index, test_index in tscv.split(X):\n",
    "#     print(\"TRAIN:\", train_index, \"TEST:\", test_index)\n",
    "#     X_train, X_test = X[train_index], X[test_index]\n",
    "#     y_train, y_test = y[train_index], y[test_index]\n",
    "# # print(X_train, X_test)\n"
   ],
   "metadata": {
    "collapsed": false,
    "pycharm": {
     "name": "#%%\n",
     "is_executing": false
    }
   }
  },
  {
   "cell_type": "code",
   "execution_count": null,
   "outputs": [
    {
     "name": "stdout",
     "text": [
      "data_u.shape: (746, 1095), data_y.shape: (3, 1095)\n",
      "MIMO [746 IN, 3 OUT], 1095 time-steps.\n"
     ],
     "output_type": "stream"
    }
   ],
   "source": [
    "print(\"data_u.shape: {}, data_y.shape: {}\".format(data_u.shape, data_y.shape))\n",
    "print(\"MIMO [{} IN, {} OUT], {} time-steps.\".format(data_u.shape[0], data_y.shape[0], data_u.shape[1]))\n",
    "\n",
    "def f_prbs_3d(t, x, i):\n",
    "    return np.array([data_u[:, i]], dtype=numpy.float16).T\n",
    "\n",
    "start_time = time.time()  # Serial\n",
    "ss3_id = subspace_det_algo1(y=data_y, u=data_u,\n",
    "    f=5,  # 5 Forward steps\n",
    "    p=5,  # 5 Backward steps\n",
    "    s_tol=0.01,  # 0.2\n",
    "    dt=dt,\n",
    "    order=-1)\n",
    "print(\"--- GPU Execution time:\\t\\t{} seconds\".format(time.time() - start_time))"
   ],
   "metadata": {
    "collapsed": false,
    "pycharm": {
     "name": "#%%\n",
     "is_executing": true
    }
   }
  },
  {
   "cell_type": "code",
   "execution_count": null,
   "outputs": [],
   "source": [
    "# TODO: test data here to simulate (should be similar)\n",
    "data3_id = ss3_id.simulate(\n",
    "    f_u=f_prbs_3d,\n",
    "    x0=np.array([np.zeros(ss3_id.A.shape[0], dtype=numpy.float16)], dtype=numpy.float16).T,\n",
    "    tf=tf)"
   ],
   "metadata": {
    "collapsed": false,
    "pycharm": {
     "name": "#%%\n",
     "is_executing": true
    }
   }
  },
  {
   "cell_type": "code",
   "execution_count": null,
   "outputs": [],
   "source": [
    "timesteps = data3_id.t.tolist()\n",
    "for i in range(y_dimensions):    \n",
    "    plt.figure(figsize=(15,5))\n",
    "    # plt.plot(timesteps, data3_id.u[:,i,:][0].tolist(), label='$u_{:d}$({})'.format(i, u_labels[i]))   \n",
    "    plt.plot(timesteps, data_y[i,:-1].tolist(), label='$y_{:d}true$({})'.format(i, y_labels[i]))         \n",
    "    plt.plot(timesteps, data3_id.y[:,i,:][0].tolist(), label='$y_{:d} pred$({})'.format(i, y_labels[i]))\n",
    "    plt.legend()\n",
    "    plt.grid()\n",
    "    \n",
    "    plt.title(\"TRAIN: Value vs Time (NRMSE: {}, SMAPE: {}%, R^2: {}, IOA: {}%)\".format(\n",
    "        round(float(nrms(np.array(data_y[i, :-1]), np.array(data3_id.y[:,i,:][0]))), 3), \n",
    "        round(float(symmetric_mean_absolute_percentage_error(np.array(data_y[i, :-1]),np.array(data3_id.y[:,i,:][0]))), 2),\n",
    "        # round(float(r2_score(data_y[i, :-1].tolist(), data3_id.y[:,i,:][0].tolist())), 2),\n",
    "        1,\n",
    "        100 * round(float(index_of_agreement(np.array(data_y[i, :-1]),np.array(data3_id.y[:,i,:][0]))), 4)\n",
    "    ))\n",
    "\n",
    "print(\"TRAIN: Total NRMSE: {}\".format(round(float(nrms(np.array(data_y[:, :-1]),np.array(data3_id.y[0]))), 3)))\n",
    "print(\"TRAIN: Total sMAPE: {}%\".format(round(float(symmetric_mean_absolute_percentage_error(np.array(data_y[:, :-1]),np.array(data3_id.y[0]))), 2)))\n",
    "print(\"TRAIN: Total IOA: {}%\".format(100 * round(float(index_of_agreement(np.array(data_y[:, :-1]),np.array(data3_id.y[0]))), 4)))"
   ],
   "metadata": {
    "collapsed": false,
    "pycharm": {
     "name": "#%%\n",
     "is_executing": true
    }
   }
  },
  {
   "cell_type": "code",
   "execution_count": null,
   "outputs": [],
   "source": [
    "def f_prbs_4d(t, x, i):\n",
    "    return np.array([test_data_u[:, i]], dtype=numpy.float16).T\n",
    "\n",
    "# TODO: test data here to simulate (should be similar)\n",
    "data4_id = ss3_id.simulate(\n",
    "    f_u=f_prbs_4d,\n",
    "    x0=np.array([np.zeros(ss3_id.A.shape[0], dtype=numpy.float16)], dtype=numpy.float16).T,\n",
    "    tf=tf)"
   ],
   "metadata": {
    "collapsed": false,
    "pycharm": {
     "name": "#%%\n",
     "is_executing": true
    }
   }
  },
  {
   "cell_type": "code",
   "execution_count": null,
   "outputs": [],
   "source": [
    "timesteps = data4_id.t.tolist()\n",
    "for i in range(y_dimensions):    \n",
    "    plt.figure(figsize=(15,5))\n",
    "    # plt.plot(timesteps, data4_id.u[:,i,:][0].tolist(), label='$u_{:d}$({})'.format(i, u_labels[i]))   \n",
    "    plt.plot(timesteps, data_y[i,:-1].tolist(), label='$y_{:d}true$({})'.format(i, y_labels[i]))         \n",
    "    plt.plot(timesteps, data4_id.y[:,i,:][0].tolist(), label='$y_{:d} pred$({})'.format(i, y_labels[i]))\n",
    "    plt.legend()\n",
    "    plt.grid()\n",
    "    \n",
    "    plt.title(\"TEST: Value vs Time (NRMSE: {}, SMAPE: {}%, R^2: {}, IOA: {}%)\".format(\n",
    "        round(float(nrms(np.array(test_data_y[i, :-1]), np.array(data4_id.y[:,i,:][0]))), 3), \n",
    "        round(float(symmetric_mean_absolute_percentage_error(np.array(test_data_y[i, :-1]),np.array(data4_id.y[:,i,:][0]))), 2),\n",
    "        # round(float(r2_score(test_data_y[i, :-1].tolist(), data4_id.y[:,i,:][0].tolist())), 2),\n",
    "        1,\n",
    "        100 * round(float(index_of_agreement(np.array(test_data_y[i, :-1]),np.array(data4_id.y[:,i,:][0]))), 4)\n",
    "    ))\n",
    "\n",
    "print(\"TEST: Total NRMSE: {}\".format(round(float(nrms(np.array(test_data_y[:, :-1]),np.array(data4_id.y[0]))), 3)))\n",
    "print(\"TEST: Total sMAPE: {}%\".format(round(float(symmetric_mean_absolute_percentage_error(np.array(test_data_y[:, :-1]),np.array(data3_id.y[0]))), 2)))\n",
    "print(\"TEST: Total IOA: {}%\".format(100 * round(float(index_of_agreement(np.array(test_data_y[:, :-1]),np.array(data4_id.y[0]))), 4)))"
   ],
   "metadata": {
    "collapsed": false,
    "pycharm": {
     "name": "#%%\n",
     "is_executing": true
    }
   }
  }
 ],
 "metadata": {
  "kernelspec": {
   "name": "python3",
   "language": "python",
   "display_name": "Python 3"
  },
  "language_info": {
   "codemirror_mode": {
    "name": "ipython",
    "version": 2
   },
   "file_extension": ".py",
   "mimetype": "text/x-python",
   "name": "python",
   "nbconvert_exporter": "python",
   "pygments_lexer": "ipython2",
   "version": "2.7.6"
  },
  "pycharm": {
   "stem_cell": {
    "cell_type": "raw",
    "source": [],
    "metadata": {
     "collapsed": false
    }
   }
  }
 },
 "nbformat": 4,
 "nbformat_minor": 0
}