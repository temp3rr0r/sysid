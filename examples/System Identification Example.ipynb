{
 "cells": [
  {
   "cell_type": "code",
   "execution_count": 1,
   "metadata": {
    "pycharm": {
     "is_executing": false
    }
   },
   "outputs": [],
   "source": [
    "import numpy as np\n",
    "import sysid\n",
    "import pylab as pl\n",
    "import time\n",
    "import pandas as pd\n",
    "import scipy\n",
    "%matplotlib inline\n",
    "%load_ext autoreload\n",
    "%autoreload 2"
   ]
  },
  {
   "cell_type": "code",
   "execution_count": 2,
   "metadata": {
    "collapsed": false,
    "jupyter": {
     "outputs_hidden": false
    },
    "pycharm": {
     "is_executing": false
    }
   },
   "outputs": [
    {
     "traceback": [
      "\u001b[1;31m---------------------------------------------------------------------------\u001b[0m",
      "\u001b[1;31mAttributeError\u001b[0m                            Traceback (most recent call last)",
      "\u001b[1;32m<ipython-input-2-210696077330>\u001b[0m in \u001b[0;36m<module>\u001b[1;34m\u001b[0m\n\u001b[0;32m      1\u001b[0m ss1 = sysid.StateSpaceDiscreteLinear(\n\u001b[1;32m----> 2\u001b[1;33m     A=0.9, B=0.5, C=1, D=0, Q=0.1, R=0.01, dt=0.1)\n\u001b[0m\u001b[0;32m      3\u001b[0m \u001b[0mss1\u001b[0m\u001b[1;33m\u001b[0m\u001b[1;33m\u001b[0m\u001b[0m\n\u001b[0;32m      4\u001b[0m \u001b[1;33m\u001b[0m\u001b[0m\n",
      "\u001b[1;32m~\\Documents\\GitHub\\sysid\\sysid\\ss_cupy_fp16.py\u001b[0m in \u001b[0;36m__init__\u001b[1;34m(self, A, B, C, D, Q, R, dt)\u001b[0m\n\u001b[0;32m     28\u001b[0m         \u001b[0mself\u001b[0m\u001b[1;33m.\u001b[0m\u001b[0mQ\u001b[0m \u001b[1;33m=\u001b[0m \u001b[0mnp\u001b[0m\u001b[1;33m.\u001b[0m\u001b[0marray\u001b[0m\u001b[1;33m(\u001b[0m\u001b[0mQ\u001b[0m\u001b[1;33m,\u001b[0m \u001b[0mdtype\u001b[0m\u001b[1;33m=\u001b[0m\u001b[0mnumpy\u001b[0m\u001b[1;33m.\u001b[0m\u001b[0mfloat16\u001b[0m\u001b[1;33m)\u001b[0m\u001b[1;33m\u001b[0m\u001b[1;33m\u001b[0m\u001b[0m\n\u001b[0;32m     29\u001b[0m         \u001b[0mself\u001b[0m\u001b[1;33m.\u001b[0m\u001b[0mR\u001b[0m \u001b[1;33m=\u001b[0m \u001b[0mnp\u001b[0m\u001b[1;33m.\u001b[0m\u001b[0marray\u001b[0m\u001b[1;33m(\u001b[0m\u001b[0mR\u001b[0m\u001b[1;33m,\u001b[0m \u001b[0mdtype\u001b[0m\u001b[1;33m=\u001b[0m\u001b[0mnumpy\u001b[0m\u001b[1;33m.\u001b[0m\u001b[0mfloat16\u001b[0m\u001b[1;33m)\u001b[0m\u001b[1;33m\u001b[0m\u001b[1;33m\u001b[0m\u001b[0m\n\u001b[1;32m---> 30\u001b[1;33m         \u001b[0mn_x\u001b[0m \u001b[1;33m=\u001b[0m \u001b[0mA\u001b[0m\u001b[1;33m.\u001b[0m\u001b[0mshape\u001b[0m\u001b[1;33m[\u001b[0m\u001b[1;36m0\u001b[0m\u001b[1;33m]\u001b[0m\u001b[1;33m\u001b[0m\u001b[1;33m\u001b[0m\u001b[0m\n\u001b[0m\u001b[0;32m     31\u001b[0m         \u001b[0mn_u\u001b[0m \u001b[1;33m=\u001b[0m \u001b[0mB\u001b[0m\u001b[1;33m.\u001b[0m\u001b[0mshape\u001b[0m\u001b[1;33m[\u001b[0m\u001b[1;36m1\u001b[0m\u001b[1;33m]\u001b[0m\u001b[1;33m\u001b[0m\u001b[1;33m\u001b[0m\u001b[0m\n\u001b[0;32m     32\u001b[0m         \u001b[0mn_y\u001b[0m \u001b[1;33m=\u001b[0m \u001b[0mC\u001b[0m\u001b[1;33m.\u001b[0m\u001b[0mshape\u001b[0m\u001b[1;33m[\u001b[0m\u001b[1;36m0\u001b[0m\u001b[1;33m]\u001b[0m\u001b[1;33m\u001b[0m\u001b[1;33m\u001b[0m\u001b[0m\n",
      "\u001b[1;31mAttributeError\u001b[0m: 'float' object has no attribute 'shape'"
     ],
     "ename": "AttributeError",
     "evalue": "'float' object has no attribute 'shape'",
     "output_type": "error"
    }
   ],
   "source": [
    "ss1 = sysid.StateSpaceDiscreteLinear(\n",
    "    A=0.9, B=0.5, C=1, D=0, Q=0.1, R=0.01, dt=0.1)\n",
    "ss1"
   ]
  },
  {
   "cell_type": "code",
   "execution_count": 3,
   "metadata": {
    "pycharm": {
     "is_executing": false
    }
   },
   "outputs": [],
   "source": [
    "#np.random.seed(1234)\n",
    "prbs1 = sysid.prbs(1000)\n",
    "def f_prbs(t, x, i):\n",
    "    return prbs1[i]"
   ]
  },
  {
   "cell_type": "code",
   "execution_count": 4,
   "metadata": {
    "collapsed": false,
    "jupyter": {
     "outputs_hidden": false
    },
    "pycharm": {
     "is_executing": false
    }
   },
   "outputs": [
    {
     "traceback": [
      "\u001b[1;31m---------------------------------------------------------------------------\u001b[0m",
      "\u001b[1;31mNameError\u001b[0m                                 Traceback (most recent call last)",
      "\u001b[1;32m<ipython-input-4-6b6a01f1f6be>\u001b[0m in \u001b[0;36m<module>\u001b[1;34m\u001b[0m\n\u001b[0;32m      1\u001b[0m \u001b[0mtf\u001b[0m \u001b[1;33m=\u001b[0m \u001b[1;36m10\u001b[0m\u001b[1;33m\u001b[0m\u001b[1;33m\u001b[0m\u001b[0m\n\u001b[1;32m----> 2\u001b[1;33m \u001b[0mdata\u001b[0m \u001b[1;33m=\u001b[0m \u001b[0mss1\u001b[0m\u001b[1;33m.\u001b[0m\u001b[0msimulate\u001b[0m\u001b[1;33m(\u001b[0m\u001b[0mf_u\u001b[0m\u001b[1;33m=\u001b[0m\u001b[0mf_prbs\u001b[0m\u001b[1;33m,\u001b[0m \u001b[0mx0\u001b[0m\u001b[1;33m=\u001b[0m\u001b[0mnp\u001b[0m\u001b[1;33m.\u001b[0m\u001b[0mmatrix\u001b[0m\u001b[1;33m(\u001b[0m\u001b[1;36m0\u001b[0m\u001b[1;33m)\u001b[0m\u001b[1;33m,\u001b[0m \u001b[0mtf\u001b[0m\u001b[1;33m=\u001b[0m\u001b[0mtf\u001b[0m\u001b[1;33m)\u001b[0m\u001b[1;33m\u001b[0m\u001b[1;33m\u001b[0m\u001b[0m\n\u001b[0m\u001b[0;32m      3\u001b[0m ss1_id = sysid.subspace_det_algo1(y=data.y, u=data.u,\n\u001b[0;32m      4\u001b[0m     f=5, p=5, s_tol=1e-1, dt=ss1.dt)\n\u001b[0;32m      5\u001b[0m \u001b[0mdata_id\u001b[0m \u001b[1;33m=\u001b[0m \u001b[0mss1_id\u001b[0m\u001b[1;33m.\u001b[0m\u001b[0msimulate\u001b[0m\u001b[1;33m(\u001b[0m\u001b[0mf_u\u001b[0m\u001b[1;33m=\u001b[0m\u001b[0mf_prbs\u001b[0m\u001b[1;33m,\u001b[0m \u001b[0mx0\u001b[0m\u001b[1;33m=\u001b[0m\u001b[1;36m0\u001b[0m\u001b[1;33m,\u001b[0m \u001b[0mtf\u001b[0m\u001b[1;33m=\u001b[0m\u001b[0mtf\u001b[0m\u001b[1;33m)\u001b[0m\u001b[1;33m\u001b[0m\u001b[1;33m\u001b[0m\u001b[0m\n",
      "\u001b[1;31mNameError\u001b[0m: name 'ss1' is not defined"
     ],
     "ename": "NameError",
     "evalue": "name 'ss1' is not defined",
     "output_type": "error"
    }
   ],
   "source": [
    "tf = 10\n",
    "data = ss1.simulate(f_u=f_prbs, x0=np.matrix(0), tf=tf)\n",
    "ss1_id = sysid.subspace_det_algo1(y=data.y, u=data.u,\n",
    "    f=5, p=5, s_tol=1e-1, dt=ss1.dt)\n",
    "data_id = ss1_id.simulate(f_u=f_prbs, x0=0, tf=tf)\n",
    "ss1_id"
   ]
  },
  {
   "cell_type": "code",
   "execution_count": null,
   "metadata": {
    "collapsed": false,
    "jupyter": {
     "outputs_hidden": false
    },
    "pycharm": {
     "is_executing": false
    }
   },
   "outputs": [],
   "source": [
    "pl.plot(data_id.t.T, data_id.x.T, label='id');\n",
    "pl.plot(data.t.T, data.x.T, label='true');\n",
    "pl.legend()\n",
    "pl.grid()\n",
    "print('fit {:f}%'.format(100*sysid.subspace.nrms(data_id.y, data.y)))"
   ]
  },
  {
   "cell_type": "code",
   "execution_count": null,
   "metadata": {
    "collapsed": false,
    "jupyter": {
     "outputs_hidden": false
    },
    "pycharm": {
     "is_executing": false
    }
   },
   "outputs": [],
   "source": [
    "ss2 = sysid.StateSpaceDiscreteLinear(\n",
    "    A=np.matrix([[0,0.1,0.2],[0.2,0.3,0.4],[0.4,0.3,0.2]]),\n",
    "    B=np.matrix([[1,0],[0,1],[0,-1]]),\n",
    "    C=np.matrix([[1,0,0],[0,1,0]]), D=np.matrix([[0,0],[0,0]]),\n",
    "    Q=pl.diag([0.1,0.1,0.1]), R=pl.diag([0.04,0.04]), dt=0.1)\n",
    "ss2"
   ]
  },
  {
   "cell_type": "code",
   "execution_count": null,
   "metadata": {
    "collapsed": false,
    "jupyter": {
     "outputs_hidden": false
    },
    "pycharm": {
     "is_executing": false
    }
   },
   "outputs": [],
   "source": [
    "np.random.seed(1234)\n",
    "prbs1 = sysid.prbs(1000)\n",
    "prbs2 = sysid.prbs(1000)\n",
    "def f_prbs_2d(t, x, i):\n",
    "    i = i%1000\n",
    "    return 2*np.matrix([prbs1[i]-0.5, prbs2[i]-0.5]).T"
   ]
  },
  {
   "cell_type": "code",
   "execution_count": null,
   "metadata": {
    "collapsed": false,
    "jupyter": {
     "outputs_hidden": false
    },
    "pycharm": {
     "is_executing": false
    }
   },
   "outputs": [],
   "source": [
    "tf = 10\n",
    "data2 = ss2.simulate(\n",
    "    f_u=f_prbs_2d, x0=np.matrix([0,0,0]).T, tf=tf)\n",
    "ss2_id = sysid.subspace_det_algo1(y=data2.y, u=data2.u,\n",
    "    f=5, p=5, s_tol=0.2, dt=ss2.dt)\n",
    "data2_id = ss2_id.simulate(\n",
    "    f_u=f_prbs_2d,\n",
    "    x0=np.matrix(pl.zeros(ss2_id.A.shape[0])).T, tf=tf)\n",
    "ss2_id"
   ]
  },
  {
   "cell_type": "code",
   "execution_count": null,
   "metadata": {
    "collapsed": false,
    "jupyter": {
     "outputs_hidden": false
    },
    "pycharm": {
     "is_executing": false
    }
   },
   "outputs": [],
   "source": [
    "for i in range(2):\n",
    "    pl.figure(figsize=(15,5))\n",
    "    pl.plot(data2_id.t.T, data2_id.y[i,:].T,\n",
    "            label='$y_{:d}$ true'.format(i))\n",
    "    pl.plot(data2.t.T, data2.y[i,:].T,\n",
    "            label='$y_{:d}$ id'.format(i))\n",
    "    pl.legend()\n",
    "    pl.grid()\n",
    "print ('fit {:f}%'.format(100*sysid.subspace.nrms(\n",
    "        data2_id.y, data2.y)))\n"
   ]
  },
  {
   "cell_type": "code",
   "execution_count": null,
   "metadata": {
    "collapsed": false,
    "jupyter": {
     "outputs_hidden": false
    },
    "pycharm": {
     "is_executing": false,
     "name": "#%%\n"
    }
   },
   "outputs": [],
   "source": [
    "# 2 internal states\n",
    "# ss3 = sysid.StateSpaceDiscreteLinear(\n",
    "#     A=np.matrix([[0,0.01],[0.2,0.3]]),\n",
    "#     B=np.matrix([[1,0],[0,1]]),\n",
    "#     C=np.matrix([[1,0],[0,1]]), \n",
    "#     D=np.matrix([[0,0],[0,0]]),\n",
    "#     Q=pl.diag([0.2,0.1]), # Q == K?\n",
    "#     R=pl.diag([0.04,0.04]), # R? \n",
    "#     dt=0.1)\n",
    "# 4 internal states\n",
    "# ss3 = sysid.StateSpaceDiscreteLinear(\n",
    "#     A=np.matrix([[0,0.01, 0.2, 0.4],[0.1, 0.2, 0.2,0.3],[0.11, 0.12, 0.21,0.13],[0.11, 0.12, 0.21,0.13]]),\n",
    "#     B=np.matrix([[1,0],[0,1],[1,0],[0,1]]),\n",
    "#     C=np.matrix([[1,0, 0, 0],[0,1,0,0]]),\n",
    "#     D=np.matrix([[0,0],[0,0]]),\n",
    "#     Q=pl.diag([0.2,0.1,0.1,0.1]), # Q == K?\n",
    "#     R=pl.diag([0.04,0.04]), # R? \n",
    "#     dt=0.1)\n",
    "# ss3\n",
    "# 4 internal states MIMO [3 IN, 2 OUT]\n",
    "ss3 = sysid.StateSpaceDiscreteLinear(\n",
    "    A=np.matrix([[0, 0.01, 0.2, 0.4], [0.1, 0.2, 0.2, 0.3], [0.11, 0.12, 0.21, 0.13], [0.11, 0.12, 0.21, 0.13]]),  # X x X\n",
    "    B = np.matrix([[1, 0, 0], [0, 1, 0], [1, 0, 0], [0, 1, 0]]),  # X x u\n",
    "    C = np.matrix([[1, 0, 0, 0], [0, 1, 0, 0]]),  # y x x\n",
    "    D = np.matrix([[0, 0, 0], [0, 0, 0]]),  # y x u\n",
    "    Q = pl.diag([0.2, 0.1, 0.1, 0.1]),  #  X x X\n",
    "    R = pl.diag([0.04, 0.04]),  # R? u x u or y x y?\n",
    "    dt=0.1)"
   ]
  },
  {
   "cell_type": "code",
   "execution_count": null,
   "metadata": {
    "collapsed": false,
    "jupyter": {
     "outputs_hidden": false
    },
    "pycharm": {
     "is_executing": false,
     "name": "#%%\n"
    }
   },
   "outputs": [],
   "source": [
    "np.random.seed(1234)\n",
    "prbs1 = sysid.prbs(1000)\n",
    "prbs2 = sysid.prbs(1000)\n",
    "prbs3 = sysid.prbs(1000)\n",
    "def f_prbs_3d(t, x, i):\n",
    "    i = i%1000\n",
    "    return 2*np.matrix([prbs1[i]-0.5, prbs2[i]-0.5, prbs3[i]-0.5]).T"
   ]
  },
  {
   "cell_type": "code",
   "execution_count": null,
   "metadata": {
    "collapsed": false,
    "jupyter": {
     "outputs_hidden": false
    },
    "pycharm": {
     "is_executing": false,
     "name": "#%%\n"
    }
   },
   "outputs": [],
   "source": [
    "tf = 10\n",
    "data3 = ss3.simulate(\n",
    "    f_u=f_prbs_3d, x0=np.matrix([0,0,0,0]).T, tf=tf)\n",
    "ss3_id = sysid.subspace_det_algo1(y=data3.y, u=data3.u,\n",
    "    f=5, p=5, s_tol=0.2, dt=ss3.dt)\n",
    "data3_id = ss3_id.simulate(\n",
    "    f_u=f_prbs_3d,\n",
    "    x0=np.matrix(pl.zeros(ss3_id.A.shape[0])).T, tf=tf)\n",
    "ss3_id"
   ]
  },
  {
   "cell_type": "code",
   "execution_count": null,
   "metadata": {
    "collapsed": false,
    "jupyter": {
     "outputs_hidden": false
    },
    "pycharm": {
     "is_executing": false,
     "name": "#%%\n"
    }
   },
   "outputs": [],
   "source": [
    "print(data3.u.shape)\n",
    "print(data3.x.shape)\n",
    "print(data3.y.shape)"
   ]
  },
  {
   "cell_type": "code",
   "execution_count": null,
   "metadata": {
    "collapsed": false,
    "jupyter": {
     "outputs_hidden": false
    },
    "pycharm": {
     "is_executing": false,
     "name": "#%%\n"
    }
   },
   "outputs": [],
   "source": [
    "for i in range(2):\n",
    "    pl.figure(figsize=(15,5))\n",
    "    pl.plot(data3_id.t.T, data3_id.y[i,:].T,\n",
    "            label='$y_{:d}$ true'.format(i))\n",
    "    pl.plot(data3.t.T, data3.y[i,:].T,\n",
    "            label='$y_{:d}$ id'.format(i))\n",
    "    pl.legend()\n",
    "    pl.grid()\n",
    "print ('fit {:f}%'.format(100*sysid.subspace.nrms(\n",
    "        data3_id.y, data3.y)))"
   ]
  },
  {
   "cell_type": "code",
   "execution_count": 5,
   "metadata": {
    "collapsed": false,
    "jupyter": {
     "outputs_hidden": false
    },
    "pycharm": {
     "is_executing": false,
     "name": "#%%\n"
    }
   },
   "outputs": [
    {
     "traceback": [
      "\u001b[1;31m---------------------------------------------------------------------------\u001b[0m",
      "\u001b[1;31mAttributeError\u001b[0m                            Traceback (most recent call last)",
      "\u001b[1;32m<ipython-input-5-1eff1c44928e>\u001b[0m in \u001b[0;36m<module>\u001b[1;34m\u001b[0m\n\u001b[0;32m     20\u001b[0m \u001b[1;33m\u001b[0m\u001b[0m\n\u001b[0;32m     21\u001b[0m data3 = ss3.simulate(\n\u001b[1;32m---> 22\u001b[1;33m     f_u=f_prbs_3d, x0=np.matrix([0,0,0,0]).T, tf=tf)\n\u001b[0m\u001b[0;32m     23\u001b[0m \u001b[1;33m\u001b[0m\u001b[0m\n\u001b[0;32m     24\u001b[0m \u001b[1;33m\u001b[0m\u001b[0m\n",
      "\u001b[1;32m~\\Documents\\GitHub\\sysid\\sysid\\ss_cupy_fp16.py\u001b[0m in \u001b[0;36msimulate\u001b[1;34m(self, f_u, x0, tf)\u001b[0m\n\u001b[0;32m    113\u001b[0m         \u001b[1;31m# take square root of noise cov to prepare for noise sim\u001b[0m\u001b[1;33m\u001b[0m\u001b[1;33m\u001b[0m\u001b[1;33m\u001b[0m\u001b[0m\n\u001b[0;32m    114\u001b[0m         \u001b[1;32mif\u001b[0m \u001b[0mnp\u001b[0m\u001b[1;33m.\u001b[0m\u001b[0mlinalg\u001b[0m\u001b[1;33m.\u001b[0m\u001b[0mnorm\u001b[0m\u001b[1;33m(\u001b[0m\u001b[0mself\u001b[0m\u001b[1;33m.\u001b[0m\u001b[0mQ\u001b[0m\u001b[1;33m)\u001b[0m \u001b[1;33m>\u001b[0m \u001b[1;36m0\u001b[0m\u001b[1;33m:\u001b[0m\u001b[1;33m\u001b[0m\u001b[1;33m\u001b[0m\u001b[0m\n\u001b[1;32m--> 115\u001b[1;33m             \u001b[0msqrtQ\u001b[0m \u001b[1;33m=\u001b[0m \u001b[0mnp\u001b[0m\u001b[1;33m.\u001b[0m\u001b[0marray\u001b[0m\u001b[1;33m(\u001b[0m\u001b[0mscipy\u001b[0m\u001b[1;33m.\u001b[0m\u001b[0mlinalg\u001b[0m\u001b[1;33m.\u001b[0m\u001b[0msqrtm\u001b[0m\u001b[1;33m(\u001b[0m\u001b[0mself\u001b[0m\u001b[1;33m.\u001b[0m\u001b[0mQ\u001b[0m\u001b[1;33m.\u001b[0m\u001b[0mget\u001b[0m\u001b[1;33m(\u001b[0m\u001b[1;33m)\u001b[0m\u001b[1;33m)\u001b[0m\u001b[1;33m,\u001b[0m \u001b[0mdtype\u001b[0m\u001b[1;33m=\u001b[0m\u001b[0mnumpy\u001b[0m\u001b[1;33m.\u001b[0m\u001b[0mfloat16\u001b[0m\u001b[1;33m)\u001b[0m\u001b[1;33m\u001b[0m\u001b[1;33m\u001b[0m\u001b[0m\n\u001b[0m\u001b[0;32m    116\u001b[0m         \u001b[1;32melse\u001b[0m\u001b[1;33m:\u001b[0m\u001b[1;33m\u001b[0m\u001b[1;33m\u001b[0m\u001b[0m\n\u001b[0;32m    117\u001b[0m             \u001b[0msqrtQ\u001b[0m \u001b[1;33m=\u001b[0m \u001b[0mself\u001b[0m\u001b[1;33m.\u001b[0m\u001b[0mQ\u001b[0m\u001b[1;33m\u001b[0m\u001b[1;33m\u001b[0m\u001b[0m\n",
      "\u001b[1;31mAttributeError\u001b[0m: module 'scipy' has no attribute 'linalg'"
     ],
     "ename": "AttributeError",
     "evalue": "module 'scipy' has no attribute 'linalg'",
     "output_type": "error"
    }
   ],
   "source": [
    "dt = 1.0\n",
    "tf = 100\n",
    "\n",
    "# 4 internal states MIMO [2 IN, 3 OUT]\n",
    "ss3 = sysid.StateSpaceDiscreteLinear(\n",
    "    A=np.matrix([[0, 0.01, 0.2, 0.4], [0.1, 0.2, 0.2, 0.3], [0.11, 0.12, 0.21, 0.13], [0.11, 0.12, 0.21, 0.13]]),  # X x X\n",
    "    B = np.matrix([[1, 0], [0, 1], [1, 0], [0, 1]]),  # X x u\n",
    "    C = np.matrix([[1, 0, 0, 0], [0, 1, 0, 0], [0, 1, 0, 0]]),  # y x x\n",
    "    D = np.matrix([[0, 0], [0, 1], [0, 0]]),  # y x u\n",
    "    Q = pl.diag([0.2, 0.1, 0.1, 0.1]),  #  X x X\n",
    "    R = pl.diag([0.04, 0.04, 0.04]),  # R? y x y\n",
    "    dt=dt)\n",
    "\n",
    "np.random.seed(1234)\n",
    "prbs1 = sysid.prbs(1000)\n",
    "prbs2 = sysid.prbs(1000)\n",
    "def f_prbs_3d(t, x, i):\n",
    "    i = i%1000\n",
    "    return 2*np.matrix([prbs1[i]-0.5, prbs2[i]-0.5]).T\n",
    "\n",
    "data3 = ss3.simulate(\n",
    "    f_u=f_prbs_3d, x0=np.matrix([0,0,0,0]).T, tf=tf)\n",
    "\n",
    "\n",
    "start_time = time.time()  # Serial\n",
    "ss3_id = sysid.subspace_det_algo1(y=data3.y, u=data3.u,\n",
    "    f=5, p=5, s_tol=0.2, dt=ss3.dt)\n",
    "print(\"--- Serial:\\t\\t{} seconds\".format(time.time() - start_time))\n",
    "\n",
    "data3_id = ss3_id.simulate(\n",
    "    f_u=f_prbs_3d,\n",
    "    x0=np.matrix(pl.zeros(ss3_id.A.shape[0])).T, tf=tf)\n",
    "\n",
    "for i in range(3):\n",
    "    pl.figure(figsize=(15,5))\n",
    "    pl.plot(data3_id.t.T, data3_id.y[i,:].T,\n",
    "            label='$y_{:d}$ true'.format(i))\n",
    "    pl.plot(data3.t.T, data3.y[i,:].T,\n",
    "            label='$y_{:d}$ id'.format(i))\n",
    "    pl.legend()\n",
    "    pl.grid()\n",
    "print ('fit {:f}%'.format(100*sysid.subspace.nrms(\n",
    "        data3_id.y, data3.y)))"
   ]
  },
  {
   "cell_type": "code",
   "execution_count": 6,
   "metadata": {
    "collapsed": false,
    "jupyter": {
     "outputs_hidden": false
    },
    "pycharm": {
     "is_executing": false,
     "name": "#%%\n"
    }
   },
   "outputs": [
    {
     "name": "stdout",
     "text": [
      "data_u.shape: (500, 2920), data_y.shape: (3, 2920)\n",
      "MIMO [500 IN, 3 OUT], 2920 time-steps.\n",
      "--- Serial:\t\t55.16209864616394 seconds\n"
     ],
     "output_type": "stream"
    },
    {
     "traceback": [
      "\u001b[1;31m---------------------------------------------------------------------------\u001b[0m",
      "\u001b[1;31mTypeError\u001b[0m                                 Traceback (most recent call last)",
      "\u001b[1;32m<ipython-input-6-be4f8aab9c26>\u001b[0m in \u001b[0;36m<module>\u001b[1;34m\u001b[0m\n\u001b[0;32m     28\u001b[0m     \u001b[0mf_u\u001b[0m\u001b[1;33m=\u001b[0m\u001b[0mf_prbs_4d\u001b[0m\u001b[1;33m,\u001b[0m\u001b[1;33m\u001b[0m\u001b[1;33m\u001b[0m\u001b[0m\n\u001b[0;32m     29\u001b[0m     \u001b[0mx0\u001b[0m\u001b[1;33m=\u001b[0m\u001b[0mnp\u001b[0m\u001b[1;33m.\u001b[0m\u001b[0mmatrix\u001b[0m\u001b[1;33m(\u001b[0m\u001b[0mpl\u001b[0m\u001b[1;33m.\u001b[0m\u001b[0mzeros\u001b[0m\u001b[1;33m(\u001b[0m\u001b[0mss3_id\u001b[0m\u001b[1;33m.\u001b[0m\u001b[0mA\u001b[0m\u001b[1;33m.\u001b[0m\u001b[0mshape\u001b[0m\u001b[1;33m[\u001b[0m\u001b[1;36m0\u001b[0m\u001b[1;33m]\u001b[0m\u001b[1;33m)\u001b[0m\u001b[1;33m)\u001b[0m\u001b[1;33m.\u001b[0m\u001b[0mT\u001b[0m\u001b[1;33m,\u001b[0m\u001b[1;33m\u001b[0m\u001b[1;33m\u001b[0m\u001b[0m\n\u001b[1;32m---> 30\u001b[1;33m     tf=tf)\n\u001b[0m\u001b[0;32m     31\u001b[0m \u001b[1;33m\u001b[0m\u001b[0m\n\u001b[0;32m     32\u001b[0m \u001b[1;32mif\u001b[0m \u001b[0mplot_stuff\u001b[0m\u001b[1;33m:\u001b[0m\u001b[1;33m\u001b[0m\u001b[1;33m\u001b[0m\u001b[0m\n",
      "\u001b[1;32m~\\Documents\\GitHub\\sysid\\sysid\\ss_cupy_fp16.py\u001b[0m in \u001b[0;36msimulate\u001b[1;34m(self, f_u, x0, tf)\u001b[0m\n\u001b[0;32m    126\u001b[0m             \u001b[0mu\u001b[0m \u001b[1;33m=\u001b[0m \u001b[0mf_u\u001b[0m\u001b[1;33m(\u001b[0m\u001b[0mt\u001b[0m\u001b[1;33m,\u001b[0m \u001b[0mx\u001b[0m\u001b[1;33m,\u001b[0m \u001b[0mi\u001b[0m\u001b[1;33m)\u001b[0m\u001b[1;33m\u001b[0m\u001b[1;33m\u001b[0m\u001b[0m\n\u001b[0;32m    127\u001b[0m             \u001b[0mv\u001b[0m \u001b[1;33m=\u001b[0m \u001b[0msqrtR\u001b[0m\u001b[1;33m.\u001b[0m\u001b[0mdot\u001b[0m\u001b[1;33m(\u001b[0m\u001b[0mnp\u001b[0m\u001b[1;33m.\u001b[0m\u001b[0mrandom\u001b[0m\u001b[1;33m.\u001b[0m\u001b[0mrandn\u001b[0m\u001b[1;33m(\u001b[0m\u001b[0mn_y\u001b[0m\u001b[1;33m,\u001b[0m \u001b[1;36m1\u001b[0m\u001b[1;33m)\u001b[0m\u001b[1;33m)\u001b[0m\u001b[1;33m\u001b[0m\u001b[1;33m\u001b[0m\u001b[0m\n\u001b[1;32m--> 128\u001b[1;33m             \u001b[0my\u001b[0m \u001b[1;33m=\u001b[0m \u001b[0mself\u001b[0m\u001b[1;33m.\u001b[0m\u001b[0mmeasurement\u001b[0m\u001b[1;33m(\u001b[0m\u001b[0mx\u001b[0m\u001b[1;33m,\u001b[0m \u001b[0mu\u001b[0m\u001b[1;33m,\u001b[0m \u001b[0mv\u001b[0m\u001b[1;33m)\u001b[0m\u001b[1;33m\u001b[0m\u001b[1;33m\u001b[0m\u001b[0m\n\u001b[0m\u001b[0;32m    129\u001b[0m             \u001b[0mdata\u001b[0m\u001b[1;33m.\u001b[0m\u001b[0mappend\u001b[0m\u001b[1;33m(\u001b[0m\u001b[0mt\u001b[0m\u001b[1;33m,\u001b[0m \u001b[0mx\u001b[0m\u001b[1;33m,\u001b[0m \u001b[0my\u001b[0m\u001b[1;33m,\u001b[0m \u001b[0mu\u001b[0m\u001b[1;33m)\u001b[0m\u001b[1;33m\u001b[0m\u001b[1;33m\u001b[0m\u001b[0m\n\u001b[0;32m    130\u001b[0m             \u001b[0mw\u001b[0m \u001b[1;33m=\u001b[0m \u001b[0msqrtQ\u001b[0m\u001b[1;33m.\u001b[0m\u001b[0mdot\u001b[0m\u001b[1;33m(\u001b[0m\u001b[0mnp\u001b[0m\u001b[1;33m.\u001b[0m\u001b[0mrandom\u001b[0m\u001b[1;33m.\u001b[0m\u001b[0mrandn\u001b[0m\u001b[1;33m(\u001b[0m\u001b[0mn_x\u001b[0m\u001b[1;33m,\u001b[0m \u001b[1;36m1\u001b[0m\u001b[1;33m)\u001b[0m\u001b[1;33m)\u001b[0m\u001b[1;33m\u001b[0m\u001b[1;33m\u001b[0m\u001b[0m\n",
      "\u001b[1;32m~\\Documents\\GitHub\\sysid\\sysid\\ss_cupy_fp16.py\u001b[0m in \u001b[0;36mmeasurement\u001b[1;34m(self, x, u, v)\u001b[0m\n\u001b[0;32m     81\u001b[0m         \u001b[1;31m# assert u.shape[1] == 1  # TODO\u001b[0m\u001b[1;33m\u001b[0m\u001b[1;33m\u001b[0m\u001b[1;33m\u001b[0m\u001b[0m\n\u001b[0;32m     82\u001b[0m         \u001b[1;31m# assert v.shape[1] == 1  # TODO\u001b[0m\u001b[1;33m\u001b[0m\u001b[1;33m\u001b[0m\u001b[1;33m\u001b[0m\u001b[0m\n\u001b[1;32m---> 83\u001b[1;33m         \u001b[1;32mreturn\u001b[0m \u001b[0mself\u001b[0m\u001b[1;33m.\u001b[0m\u001b[0mC\u001b[0m \u001b[1;33m@\u001b[0m \u001b[0mx\u001b[0m \u001b[1;33m+\u001b[0m \u001b[0mself\u001b[0m\u001b[1;33m.\u001b[0m\u001b[0mD\u001b[0m \u001b[1;33m@\u001b[0m \u001b[0mu\u001b[0m \u001b[1;33m+\u001b[0m \u001b[0mv\u001b[0m\u001b[1;33m\u001b[0m\u001b[1;33m\u001b[0m\u001b[0m\n\u001b[0m\u001b[0;32m     84\u001b[0m \u001b[1;33m\u001b[0m\u001b[0m\n\u001b[0;32m     85\u001b[0m     \u001b[1;32mdef\u001b[0m \u001b[0msimulate\u001b[0m\u001b[1;33m(\u001b[0m\u001b[0mself\u001b[0m\u001b[1;33m,\u001b[0m \u001b[0mf_u\u001b[0m\u001b[1;33m,\u001b[0m \u001b[0mx0\u001b[0m\u001b[1;33m,\u001b[0m \u001b[0mtf\u001b[0m\u001b[1;33m)\u001b[0m\u001b[1;33m:\u001b[0m\u001b[1;33m\u001b[0m\u001b[1;33m\u001b[0m\u001b[0m\n",
      "\u001b[1;32mcupy\\core\\core.pyx\u001b[0m in \u001b[0;36mcupy.core.core.ndarray.__matmul__\u001b[1;34m()\u001b[0m\n",
      "\u001b[1;31mTypeError\u001b[0m: Cannot convert matrix to cupy.core.core.ndarray"
     ],
     "ename": "TypeError",
     "evalue": "Cannot convert matrix to cupy.core.core.ndarray",
     "output_type": "error"
    }
   ],
   "source": [
    "tf = 365*8\n",
    "dt = 1\n",
    "plot_stuff = False\n",
    "\n",
    "# TODO: check with randn 500 IN, 3 OUT\n",
    "data_u = np.random.randn(500, tf)\n",
    "data_y = np.random.randn(3, tf)\n",
    "\n",
    "# data_u = data_uu\n",
    "# data_y = data_yy\n",
    "\n",
    "print(\"data_u.shape: {}, data_y.shape: {}\".format(data_u.shape, data_y.shape))\n",
    "print(\"MIMO [{} IN, {} OUT], {} time-steps.\".format(data_u.shape[0], data_y.shape[0], data_u.shape[1]))\n",
    "\n",
    "def f_prbs_4d(t, x, i):\n",
    "    return np.matrix(data_u[:,i]).T\n",
    "\n",
    "start_time = time.time()  # Serial\n",
    "ss3_id = sysid.subspace_det_algo1(y=data_y, u=data_u,\n",
    "    f=5,  # 5 Forward steps\n",
    "    p=5,  # 5 Backward steps                  \n",
    "    s_tol=0.01, # 0.2\n",
    "    dt=dt,\n",
    "    order=-1)\n",
    "print(\"--- Serial:\\t\\t{} seconds\".format(time.time() - start_time))\n",
    "\n",
    "data3_id = ss3_id.simulate(\n",
    "    f_u=f_prbs_4d,\n",
    "    x0=np.matrix(pl.zeros(ss3_id.A.shape[0])).T, \n",
    "    tf=tf)\n",
    "\n",
    "if plot_stuff:\n",
    "    for i in range(3):\n",
    "        pl.figure(figsize=(15,5))\n",
    "        pl.plot(data3_id.t.T, data3_id.y[i,:].T,\n",
    "                label='$y_{:d}$ true'.format(i))\n",
    "        pl.plot(data3_id.t.T,\n",
    "                np.matrix(data_y[i,:-1]).T,\n",
    "                label='$y_{:d}$ id'.format(i))\n",
    "        pl.legend()\n",
    "        pl.grid()\n",
    "print ('fit {:f}%'.format(100*sysid.subspace.nrms(\n",
    "        data3_id.y, np.array(data_y[:,-1:]))))"
   ]
  },
  {
   "cell_type": "code",
   "execution_count": null,
   "metadata": {
    "collapsed": false,
    "jupyter": {
     "outputs_hidden": false
    },
    "pycharm": {
     "is_executing": false,
     "name": "#%%\n"
    }
   },
   "outputs": [],
   "source": [
    "i = 1\n",
    "pl.figure(figsize=(15,5))\n",
    "pl.plot(data3_id.t.T, data3_id.y[i,:].T,\n",
    "        label='$y_{:d}$ true'.format(i))\n",
    "pl.plot(data3_id.t.T,\n",
    "        np.matrix(data_y[i,:-1]).T,\n",
    "        label='$y_{:d}$ id'.format(i))\n",
    "pl.legend()\n",
    "pl.grid()"
   ]
  },
  {
   "cell_type": "code",
   "execution_count": null,
   "metadata": {
    "collapsed": false,
    "jupyter": {
     "outputs_hidden": false
    },
    "pycharm": {
     "is_executing": false,
     "name": "#%%\n"
    }
   },
   "outputs": [],
   "source": [
    "df2 = pd.read_csv('sp500_joined_closes.csv')\n",
    "df2[\"AAPL\"] = df2[\"AAPL\"].astype(float)\n",
    "df2[\"MSFT\"] = df2[\"MSFT\"].astype(float)\n",
    "df2[\"AMD\"] = df2[\"AMD\"].astype(float)\n",
    "df2[\"INTC\"] = df2[\"INTC\"].astype(float)\n",
    "df2[\"NVDA\"] = df2[\"NVDA\"].astype(float)\n",
    "df2[\"AMZN\"] = df2[\"AMZN\"].astype(float)\n",
    "df = df2[[\"AAPL\", \"MSFT\", \"AMD\", \"INTC\", \"NVDA\", \"AMZN\"]]\n",
    "#normalized_df=(df-df.min())/(df.max()-df.min())\n",
    "normalized_df=(df-df.mean())/(df.std())\n",
    "data_uu = normalized_df[[\"AAPL\", \"MSFT\", \"AMZN\"]].tail(tf).to_numpy().T\n",
    "\n",
    "data_yy = normalized_df[[\"AMD\", \"NVDA\", \"INTC\"]].tail(tf).to_numpy().T\n",
    "print(data_uu.shape, data_yy.shape)\n"
   ]
  },
  {
   "cell_type": "code",
   "execution_count": null,
   "metadata": {
    "collapsed": false,
    "jupyter": {
     "outputs_hidden": false
    },
    "pycharm": {
     "is_executing": false,
     "name": "#%%\n"
    }
   },
   "outputs": [],
   "source": [
    "import cupy as cp\n",
    "x_gpu = cp.array([1, 2, 3])\n"
   ]
  }
 ],
 "metadata": {
  "kernelspec": {
   "display_name": "Python 3",
   "language": "python",
   "name": "python3"
  },
  "language_info": {
   "codemirror_mode": {
    "name": "ipython",
    "version": 3
   },
   "file_extension": ".py",
   "mimetype": "text/x-python",
   "name": "python",
   "nbconvert_exporter": "python",
   "pygments_lexer": "ipython3",
   "version": "3.6.10"
  },
  "pycharm": {
   "stem_cell": {
    "cell_type": "raw",
    "source": [],
    "metadata": {
     "collapsed": false
    }
   }
  }
 },
 "nbformat": 4,
 "nbformat_minor": 4
}